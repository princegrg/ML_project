{
 "cells": [
  {
   "cell_type": "code",
   "execution_count": 136,
   "metadata": {},
   "outputs": [],
   "source": [
    "import numpy as np\n",
    "import pandas as pd\n",
    "import matplotlib.pyplot as plt \n",
    "import seaborn as sns\n",
    "# Modelling\n",
    "from sklearn.model_selection import train_test_split\n",
    "from sklearn.metrics import mean_squared_error, r2_score\n",
    "from sklearn.neighbors import KNeighborsRegressor\n",
    "from sklearn.tree import DecisionTreeRegressor\n",
    "from sklearn.ensemble import RandomForestRegressor,AdaBoostRegressor\n",
    "from sklearn.svm import SVR\n",
    "from sklearn.linear_model import LinearRegression, Ridge,Lasso\n",
    "from sklearn.metrics import r2_score, mean_absolute_error, mean_squared_error\n",
    "from sklearn.model_selection import RandomizedSearchCV\n",
    "from catboost import CatBoostRegressor\n",
    "from xgboost import XGBRegressor\n",
    "import warnings"
   ]
  },
  {
   "attachments": {},
   "cell_type": "markdown",
   "metadata": {},
   "source": [
    "#### Importing data and overview of the data"
   ]
  },
  {
   "cell_type": "code",
   "execution_count": 137,
   "metadata": {},
   "outputs": [],
   "source": [
    "df = pd.read_csv('data/stud_perf_model.csv')"
   ]
  },
  {
   "cell_type": "code",
   "execution_count": 138,
   "metadata": {},
   "outputs": [
    {
     "data": {
      "text/html": [
       "<div>\n",
       "<style scoped>\n",
       "    .dataframe tbody tr th:only-of-type {\n",
       "        vertical-align: middle;\n",
       "    }\n",
       "\n",
       "    .dataframe tbody tr th {\n",
       "        vertical-align: top;\n",
       "    }\n",
       "\n",
       "    .dataframe thead th {\n",
       "        text-align: right;\n",
       "    }\n",
       "</style>\n",
       "<table border=\"1\" class=\"dataframe\">\n",
       "  <thead>\n",
       "    <tr style=\"text-align: right;\">\n",
       "      <th></th>\n",
       "      <th>gender</th>\n",
       "      <th>race</th>\n",
       "      <th>parental level of education</th>\n",
       "      <th>lunch</th>\n",
       "      <th>test preparation course</th>\n",
       "      <th>math score</th>\n",
       "      <th>reading score</th>\n",
       "      <th>writing score</th>\n",
       "      <th>total score</th>\n",
       "      <th>average score</th>\n",
       "    </tr>\n",
       "  </thead>\n",
       "  <tbody>\n",
       "    <tr>\n",
       "      <th>0</th>\n",
       "      <td>female</td>\n",
       "      <td>group B</td>\n",
       "      <td>bachelor's degree</td>\n",
       "      <td>standard</td>\n",
       "      <td>none</td>\n",
       "      <td>72</td>\n",
       "      <td>72</td>\n",
       "      <td>74</td>\n",
       "      <td>218</td>\n",
       "      <td>72.666667</td>\n",
       "    </tr>\n",
       "    <tr>\n",
       "      <th>1</th>\n",
       "      <td>female</td>\n",
       "      <td>group C</td>\n",
       "      <td>some college</td>\n",
       "      <td>standard</td>\n",
       "      <td>completed</td>\n",
       "      <td>69</td>\n",
       "      <td>90</td>\n",
       "      <td>88</td>\n",
       "      <td>247</td>\n",
       "      <td>82.333333</td>\n",
       "    </tr>\n",
       "    <tr>\n",
       "      <th>2</th>\n",
       "      <td>female</td>\n",
       "      <td>group B</td>\n",
       "      <td>master's degree</td>\n",
       "      <td>standard</td>\n",
       "      <td>none</td>\n",
       "      <td>90</td>\n",
       "      <td>95</td>\n",
       "      <td>93</td>\n",
       "      <td>278</td>\n",
       "      <td>92.666667</td>\n",
       "    </tr>\n",
       "    <tr>\n",
       "      <th>3</th>\n",
       "      <td>male</td>\n",
       "      <td>group A</td>\n",
       "      <td>associate's degree</td>\n",
       "      <td>free/reduced</td>\n",
       "      <td>none</td>\n",
       "      <td>47</td>\n",
       "      <td>57</td>\n",
       "      <td>44</td>\n",
       "      <td>148</td>\n",
       "      <td>49.333333</td>\n",
       "    </tr>\n",
       "    <tr>\n",
       "      <th>4</th>\n",
       "      <td>male</td>\n",
       "      <td>group C</td>\n",
       "      <td>some college</td>\n",
       "      <td>standard</td>\n",
       "      <td>none</td>\n",
       "      <td>76</td>\n",
       "      <td>78</td>\n",
       "      <td>75</td>\n",
       "      <td>229</td>\n",
       "      <td>76.333333</td>\n",
       "    </tr>\n",
       "  </tbody>\n",
       "</table>\n",
       "</div>"
      ],
      "text/plain": [
       "   gender     race parental level of education         lunch  \\\n",
       "0  female  group B           bachelor's degree      standard   \n",
       "1  female  group C                some college      standard   \n",
       "2  female  group B             master's degree      standard   \n",
       "3    male  group A          associate's degree  free/reduced   \n",
       "4    male  group C                some college      standard   \n",
       "\n",
       "  test preparation course  math score  reading score  writing score  \\\n",
       "0                    none          72             72             74   \n",
       "1               completed          69             90             88   \n",
       "2                    none          90             95             93   \n",
       "3                    none          47             57             44   \n",
       "4                    none          76             78             75   \n",
       "\n",
       "   total score  average score  \n",
       "0          218      72.666667  \n",
       "1          247      82.333333  \n",
       "2          278      92.666667  \n",
       "3          148      49.333333  \n",
       "4          229      76.333333  "
      ]
     },
     "execution_count": 138,
     "metadata": {},
     "output_type": "execute_result"
    }
   ],
   "source": [
    "df.head()"
   ]
  },
  {
   "attachments": {},
   "cell_type": "markdown",
   "metadata": {},
   "source": [
    "#### Preparing the X and Y variables\n",
    "The column to predict will be the average score. All the feautres except the total score and the writing score score will be used"
   ]
  },
  {
   "cell_type": "code",
   "execution_count": 139,
   "metadata": {},
   "outputs": [],
   "source": [
    "x = df.drop(columns = ['average score', 'total score', 'writing score'])"
   ]
  },
  {
   "cell_type": "code",
   "execution_count": 140,
   "metadata": {},
   "outputs": [
    {
     "data": {
      "text/html": [
       "<div>\n",
       "<style scoped>\n",
       "    .dataframe tbody tr th:only-of-type {\n",
       "        vertical-align: middle;\n",
       "    }\n",
       "\n",
       "    .dataframe tbody tr th {\n",
       "        vertical-align: top;\n",
       "    }\n",
       "\n",
       "    .dataframe thead th {\n",
       "        text-align: right;\n",
       "    }\n",
       "</style>\n",
       "<table border=\"1\" class=\"dataframe\">\n",
       "  <thead>\n",
       "    <tr style=\"text-align: right;\">\n",
       "      <th></th>\n",
       "      <th>gender</th>\n",
       "      <th>race</th>\n",
       "      <th>parental level of education</th>\n",
       "      <th>lunch</th>\n",
       "      <th>test preparation course</th>\n",
       "      <th>math score</th>\n",
       "      <th>reading score</th>\n",
       "    </tr>\n",
       "  </thead>\n",
       "  <tbody>\n",
       "    <tr>\n",
       "      <th>0</th>\n",
       "      <td>female</td>\n",
       "      <td>group B</td>\n",
       "      <td>bachelor's degree</td>\n",
       "      <td>standard</td>\n",
       "      <td>none</td>\n",
       "      <td>72</td>\n",
       "      <td>72</td>\n",
       "    </tr>\n",
       "    <tr>\n",
       "      <th>1</th>\n",
       "      <td>female</td>\n",
       "      <td>group C</td>\n",
       "      <td>some college</td>\n",
       "      <td>standard</td>\n",
       "      <td>completed</td>\n",
       "      <td>69</td>\n",
       "      <td>90</td>\n",
       "    </tr>\n",
       "    <tr>\n",
       "      <th>2</th>\n",
       "      <td>female</td>\n",
       "      <td>group B</td>\n",
       "      <td>master's degree</td>\n",
       "      <td>standard</td>\n",
       "      <td>none</td>\n",
       "      <td>90</td>\n",
       "      <td>95</td>\n",
       "    </tr>\n",
       "    <tr>\n",
       "      <th>3</th>\n",
       "      <td>male</td>\n",
       "      <td>group A</td>\n",
       "      <td>associate's degree</td>\n",
       "      <td>free/reduced</td>\n",
       "      <td>none</td>\n",
       "      <td>47</td>\n",
       "      <td>57</td>\n",
       "    </tr>\n",
       "    <tr>\n",
       "      <th>4</th>\n",
       "      <td>male</td>\n",
       "      <td>group C</td>\n",
       "      <td>some college</td>\n",
       "      <td>standard</td>\n",
       "      <td>none</td>\n",
       "      <td>76</td>\n",
       "      <td>78</td>\n",
       "    </tr>\n",
       "  </tbody>\n",
       "</table>\n",
       "</div>"
      ],
      "text/plain": [
       "   gender     race parental level of education         lunch  \\\n",
       "0  female  group B           bachelor's degree      standard   \n",
       "1  female  group C                some college      standard   \n",
       "2  female  group B             master's degree      standard   \n",
       "3    male  group A          associate's degree  free/reduced   \n",
       "4    male  group C                some college      standard   \n",
       "\n",
       "  test preparation course  math score  reading score  \n",
       "0                    none          72             72  \n",
       "1               completed          69             90  \n",
       "2                    none          90             95  \n",
       "3                    none          47             57  \n",
       "4                    none          76             78  "
      ]
     },
     "execution_count": 140,
     "metadata": {},
     "output_type": "execute_result"
    }
   ],
   "source": [
    "x.head()"
   ]
  },
  {
   "cell_type": "code",
   "execution_count": 141,
   "metadata": {},
   "outputs": [],
   "source": [
    "y = df['math score']"
   ]
  },
  {
   "cell_type": "code",
   "execution_count": 142,
   "metadata": {},
   "outputs": [
    {
     "data": {
      "text/plain": [
       "0    72\n",
       "1    69\n",
       "2    90\n",
       "3    47\n",
       "4    76\n",
       "Name: math score, dtype: int64"
      ]
     },
     "execution_count": 142,
     "metadata": {},
     "output_type": "execute_result"
    }
   ],
   "source": [
    "y.head()"
   ]
  },
  {
   "cell_type": "code",
   "execution_count": 143,
   "metadata": {},
   "outputs": [
    {
     "data": {
      "text/plain": [
       "(1000,)"
      ]
     },
     "execution_count": 143,
     "metadata": {},
     "output_type": "execute_result"
    }
   ],
   "source": [
    "y.shape"
   ]
  },
  {
   "cell_type": "code",
   "execution_count": 144,
   "metadata": {},
   "outputs": [
    {
     "name": "stdout",
     "output_type": "stream",
     "text": [
      "The unique values in the gender column are : ['female' 'male']\n",
      "\n",
      "\n",
      "The unique values in the race column are : ['group B' 'group C' 'group A' 'group D' 'group E']\n",
      "\n",
      "\n",
      "The unique values in the parental level of education column are : [\"bachelor's degree\" 'some college' \"master's degree\" \"associate's degree\"\n",
      " 'high school' 'some high school']\n",
      "\n",
      "\n",
      "The unique values in the lunch column are : ['standard' 'free/reduced']\n",
      "\n",
      "\n",
      "The unique values in the test preparation course column are : ['none' 'completed']\n",
      "\n",
      "\n"
     ]
    }
   ],
   "source": [
    "for col in x.select_dtypes(include = 'object').columns:\n",
    "    xx = df[f'{col}'].unique()\n",
    "    print(f\"The unique values in the {col} column are : {xx}\")\n",
    "    print('\\n')"
   ]
  },
  {
   "attachments": {},
   "cell_type": "markdown",
   "metadata": {},
   "source": [
    "#### Creating column transformers"
   ]
  },
  {
   "cell_type": "code",
   "execution_count": 145,
   "metadata": {},
   "outputs": [],
   "source": [
    "num_feat = x.select_dtypes(exclude = 'object').columns\n",
    "cat_feat = x.select_dtypes(include = 'object').columns\n",
    "\n",
    "from sklearn.preprocessing import OneHotEncoder, StandardScaler\n",
    "from sklearn.compose import ColumnTransformer\n",
    "\n",
    "num_trans = StandardScaler() #this transforms the data so that the data has a mean of 0 and a standard deviation of 1\n",
    "cat_trans = OneHotEncoder() #this converts categorical variables into binary vectors, where each category is represented as a binary column, and the presence or absence of a category is indicated by 1 or 0, respectivel\n",
    "\n",
    "preprocessor = ColumnTransformer( [\n",
    "    (\"One_hot_encoder\", cat_trans, cat_feat),\n",
    "    ('standardscaler', num_trans, num_feat)\n",
    "])"
   ]
  },
  {
   "cell_type": "code",
   "execution_count": 146,
   "metadata": {},
   "outputs": [],
   "source": [
    "x_preprocessed = preprocessor.fit_transform(x)"
   ]
  },
  {
   "cell_type": "code",
   "execution_count": 147,
   "metadata": {},
   "outputs": [
    {
     "data": {
      "text/plain": [
       "(1000, 19)"
      ]
     },
     "execution_count": 147,
     "metadata": {},
     "output_type": "execute_result"
    }
   ],
   "source": [
    "x_preprocessed.shape"
   ]
  },
  {
   "attachments": {},
   "cell_type": "markdown",
   "metadata": {},
   "source": [
    "#### Separating data into training and testing data set"
   ]
  },
  {
   "cell_type": "code",
   "execution_count": 148,
   "metadata": {},
   "outputs": [
    {
     "data": {
      "text/plain": [
       "((800, 19), (200, 19))"
      ]
     },
     "execution_count": 148,
     "metadata": {},
     "output_type": "execute_result"
    }
   ],
   "source": [
    "x_train, x_test, y_train, y_test = train_test_split(x_preprocessed, y, test_size = 0.2, random_state = 31)\n",
    "x_train.shape, x_test.shape"
   ]
  },
  {
   "attachments": {},
   "cell_type": "markdown",
   "metadata": {},
   "source": [
    "#### Creating an model evaluation function to provide metrics after training completion"
   ]
  },
  {
   "cell_type": "code",
   "execution_count": 149,
   "metadata": {},
   "outputs": [],
   "source": [
    "def model_evaluate(truth, prediction):\n",
    "    mae = mean_absolute_error(truth, prediction) #this measures magnitude of the errors wihtout considering the direction. lower mae indicates better model prediction\n",
    "    mse = mean_squared_error(truth, prediction) #emphasizes larger errors and penalizes them more than smaller errors\n",
    "    rmse = np.sqrt(mean_squared_error(truth, prediction))#this is the square root of mse.\n",
    "    r2 = r2_score(truth, prediction) #The R-squared, also known as the coefficient of determination, measures the proportion of variance in the target variable that is explained by the model. R2 ranges from 0 to 1, where 0 indicates that the model does not explain any variance, and 1 indicates a perfect fit\n",
    "    return mae, rmse, r2"
   ]
  },
  {
   "cell_type": "code",
   "execution_count": 150,
   "metadata": {},
   "outputs": [
    {
     "name": "stdout",
     "output_type": "stream",
     "text": [
      "Model: Linear Regression\n",
      "performance for training data set\n",
      "- Mean Absolute Error: 0.00\n",
      "- Root Mean Squared Error: 0.00\n",
      "- R2 Score: 1.00\n",
      "/n\n",
      "performance for testing data set\n",
      "- Mean Absolute Error: 0.00\n",
      "- Root Mean Squared Error: 0.00\n",
      "- R2 Score: 1.00\n",
      "==============================\n",
      "/n\n",
      "Model: Lasso\n",
      "performance for training data set\n",
      "- Mean Absolute Error: 0.80\n",
      "- Root Mean Squared Error: 1.00\n",
      "- R2 Score: 1.00\n",
      "/n\n",
      "performance for testing data set\n",
      "- Mean Absolute Error: 0.79\n",
      "- Root Mean Squared Error: 1.03\n",
      "- R2 Score: 1.00\n",
      "==============================\n",
      "/n\n",
      "Model: Ridge\n",
      "performance for training data set\n",
      "- Mean Absolute Error: 0.04\n",
      "- Root Mean Squared Error: 0.05\n",
      "- R2 Score: 1.00\n",
      "/n\n",
      "performance for testing data set\n",
      "- Mean Absolute Error: 0.04\n",
      "- Root Mean Squared Error: 0.05\n",
      "- R2 Score: 1.00\n",
      "==============================\n",
      "/n\n",
      "Model: K-Neighbors Regressor\n",
      "performance for training data set\n",
      "- Mean Absolute Error: 2.85\n",
      "- Root Mean Squared Error: 3.66\n",
      "- R2 Score: 0.94\n",
      "/n\n",
      "performance for testing data set\n",
      "- Mean Absolute Error: 3.50\n",
      "- Root Mean Squared Error: 4.35\n",
      "- R2 Score: 0.92\n",
      "==============================\n",
      "/n\n",
      "Model: Decision Tree\n",
      "performance for training data set\n",
      "- Mean Absolute Error: 0.00\n",
      "- Root Mean Squared Error: 0.00\n",
      "- R2 Score: 1.00\n",
      "/n\n",
      "performance for testing data set\n",
      "- Mean Absolute Error: 0.07\n",
      "- Root Mean Squared Error: 0.61\n",
      "- R2 Score: 1.00\n",
      "==============================\n",
      "/n\n",
      "Model: Random Forest Regressor\n",
      "performance for training data set\n",
      "- Mean Absolute Error: 0.02\n",
      "- Root Mean Squared Error: 0.19\n",
      "- R2 Score: 1.00\n",
      "/n\n",
      "performance for testing data set\n",
      "- Mean Absolute Error: 0.10\n",
      "- Root Mean Squared Error: 1.02\n",
      "- R2 Score: 1.00\n",
      "==============================\n",
      "/n\n",
      "Model: XGBRegressor\n",
      "performance for training data set\n",
      "- Mean Absolute Error: 0.00\n",
      "- Root Mean Squared Error: 0.01\n",
      "- R2 Score: 1.00\n",
      "/n\n",
      "performance for testing data set\n",
      "- Mean Absolute Error: 0.08\n",
      "- Root Mean Squared Error: 0.59\n",
      "- R2 Score: 1.00\n",
      "==============================\n",
      "/n\n",
      "Model: CatBoosting Regressor\n",
      "performance for training data set\n",
      "- Mean Absolute Error: 0.08\n",
      "- Root Mean Squared Error: 0.10\n",
      "- R2 Score: 1.00\n",
      "/n\n",
      "performance for testing data set\n",
      "- Mean Absolute Error: 0.31\n",
      "- Root Mean Squared Error: 1.27\n",
      "- R2 Score: 0.99\n",
      "==============================\n",
      "/n\n",
      "Model: AdaBoost Regressor\n",
      "performance for training data set\n",
      "- Mean Absolute Error: 1.11\n",
      "- Root Mean Squared Error: 1.46\n",
      "- R2 Score: 0.99\n",
      "/n\n",
      "performance for testing data set\n",
      "- Mean Absolute Error: 1.19\n",
      "- Root Mean Squared Error: 1.85\n",
      "- R2 Score: 0.99\n",
      "==============================\n",
      "/n\n"
     ]
    }
   ],
   "source": [
    "models = {\n",
    "    \"Linear Regression\": LinearRegression(),\n",
    "    \"Lasso\": Lasso(),\n",
    "    \"Ridge\": Ridge(),\n",
    "    \"K-Neighbors Regressor\": KNeighborsRegressor(),\n",
    "    \"Decision Tree\": DecisionTreeRegressor(),\n",
    "    \"Random Forest Regressor\": RandomForestRegressor(),\n",
    "    \"XGBRegressor\": XGBRegressor(), \n",
    "    \"CatBoosting Regressor\": CatBoostRegressor(verbose=False),\n",
    "    \"AdaBoost Regressor\": AdaBoostRegressor()\n",
    "}\n",
    "\n",
    "list_of_models = []\n",
    "list_of_r2_score = []\n",
    "\n",
    "for a in range(len(models)):\n",
    "    model_name = list(models.keys())[a]\n",
    "    model = list(models.values())[a] #this gets the instance of the models, as the loop goes one by one\n",
    "    model.fit(x_train, y_train) #this trains the model\n",
    "\n",
    "    train_pred = model.predict(x_train) #this makes the predictions on the training set\n",
    "    test_pred = model.predict(x_test) #this makes the predictions on the testing set\n",
    "\n",
    "    #these get evaluate the individual model and get the score for the same training and testing dataset\n",
    "    train_mae, train_rmse, train_r2 = model_evaluate(y_train, train_pred)\n",
    "    test_mae, test_rmse, test_r2 = model_evaluate(y_test, test_pred)\n",
    "\n",
    "    #adding the model and the respective r2 score for the test dataset\n",
    "    list_of_models.append(model_name)\n",
    "    list_of_r2_score.append(test_r2)\n",
    "\n",
    "    #display the performance\n",
    "    print('Model: '+ model_name)\n",
    "    print('performance for training data set')\n",
    "    print(f'- Mean Absolute Error: {train_mae:.2f}')\n",
    "    print(f'- Root Mean Squared Error: {train_rmse:.2f}')\n",
    "    print(f'- R2 Score: {train_r2:.2f}')\n",
    "    print('/n')\n",
    "    print('performance for testing data set')\n",
    "    print(f'- Mean Absolute Error: {test_mae:.2f}')\n",
    "    print(f'- Root Mean Squared Error: {test_rmse:.2f}')\n",
    "    print(f'- R2 Score: {test_r2:.2f}')\n",
    "    print('='*30)\n",
    "    print('/n')\n",
    "    \n",
    "    "
   ]
  },
  {
   "cell_type": "markdown",
   "metadata": {},
   "source": [
    "##### Results based on R2 score"
   ]
  },
  {
   "cell_type": "code",
   "execution_count": 151,
   "metadata": {},
   "outputs": [
    {
     "data": {
      "text/html": [
       "<div>\n",
       "<style scoped>\n",
       "    .dataframe tbody tr th:only-of-type {\n",
       "        vertical-align: middle;\n",
       "    }\n",
       "\n",
       "    .dataframe tbody tr th {\n",
       "        vertical-align: top;\n",
       "    }\n",
       "\n",
       "    .dataframe thead th {\n",
       "        text-align: right;\n",
       "    }\n",
       "</style>\n",
       "<table border=\"1\" class=\"dataframe\">\n",
       "  <thead>\n",
       "    <tr style=\"text-align: right;\">\n",
       "      <th></th>\n",
       "      <th>Model Name</th>\n",
       "      <th>R2_Score</th>\n",
       "    </tr>\n",
       "  </thead>\n",
       "  <tbody>\n",
       "    <tr>\n",
       "      <th>0</th>\n",
       "      <td>Linear Regression</td>\n",
       "      <td>1.000000</td>\n",
       "    </tr>\n",
       "    <tr>\n",
       "      <th>2</th>\n",
       "      <td>Ridge</td>\n",
       "      <td>0.999989</td>\n",
       "    </tr>\n",
       "    <tr>\n",
       "      <th>6</th>\n",
       "      <td>XGBRegressor</td>\n",
       "      <td>0.998547</td>\n",
       "    </tr>\n",
       "    <tr>\n",
       "      <th>4</th>\n",
       "      <td>Decision Tree</td>\n",
       "      <td>0.998442</td>\n",
       "    </tr>\n",
       "    <tr>\n",
       "      <th>5</th>\n",
       "      <td>Random Forest Regressor</td>\n",
       "      <td>0.995646</td>\n",
       "    </tr>\n",
       "    <tr>\n",
       "      <th>1</th>\n",
       "      <td>Lasso</td>\n",
       "      <td>0.995559</td>\n",
       "    </tr>\n",
       "    <tr>\n",
       "      <th>7</th>\n",
       "      <td>CatBoosting Regressor</td>\n",
       "      <td>0.993227</td>\n",
       "    </tr>\n",
       "    <tr>\n",
       "      <th>8</th>\n",
       "      <td>AdaBoost Regressor</td>\n",
       "      <td>0.985537</td>\n",
       "    </tr>\n",
       "    <tr>\n",
       "      <th>3</th>\n",
       "      <td>K-Neighbors Regressor</td>\n",
       "      <td>0.920168</td>\n",
       "    </tr>\n",
       "  </tbody>\n",
       "</table>\n",
       "</div>"
      ],
      "text/plain": [
       "                Model Name  R2_Score\n",
       "0        Linear Regression  1.000000\n",
       "2                    Ridge  0.999989\n",
       "6             XGBRegressor  0.998547\n",
       "4            Decision Tree  0.998442\n",
       "5  Random Forest Regressor  0.995646\n",
       "1                    Lasso  0.995559\n",
       "7    CatBoosting Regressor  0.993227\n",
       "8       AdaBoost Regressor  0.985537\n",
       "3    K-Neighbors Regressor  0.920168"
      ]
     },
     "execution_count": 151,
     "metadata": {},
     "output_type": "execute_result"
    }
   ],
   "source": [
    "data = {'Model Name': list_of_models, 'R2_Score': list_of_r2_score}\n",
    "df = pd.DataFrame(data).sort_values(by='R2_Score', ascending=False)\n",
    "df"
   ]
  },
  {
   "attachments": {},
   "cell_type": "markdown",
   "metadata": {},
   "source": [
    "###### Based on the r2 score, Linear regression seems to be the best fit"
   ]
  },
  {
   "attachments": {},
   "cell_type": "markdown",
   "metadata": {},
   "source": [
    "##### Using Linear regression to make the model"
   ]
  },
  {
   "cell_type": "code",
   "execution_count": 152,
   "metadata": {},
   "outputs": [
    {
     "name": "stdout",
     "output_type": "stream",
     "text": [
      "The accuracy of the linear regression model is 100.00 %\n"
     ]
    }
   ],
   "source": [
    "linear_model = LinearRegression(fit_intercept = True).fit(x_train, y_train) #a linear refgression model is created and fitted with the training data set\n",
    "y_pred = linear_model.predict(x_test) \n",
    "r2 = r2_score(y_test, y_pred) * 100\n",
    "print(f'The accuracy of the linear regression model is {r2:.2f} %')\n"
   ]
  },
  {
   "cell_type": "markdown",
   "metadata": {},
   "source": [
    "##### Plotting the test values and the predicted values"
   ]
  },
  {
   "cell_type": "code",
   "execution_count": 153,
   "metadata": {},
   "outputs": [
    {
     "data": {
      "text/plain": [
       "Text(0, 0.5, 'Prediction')"
      ]
     },
     "execution_count": 153,
     "metadata": {},
     "output_type": "execute_result"
    },
    {
     "data": {
      "image/png": "[encoded data removed]",
      "text/plain": [
       "<Figure size 640x480 with 1 Axes>"
      ]
     },
     "metadata": {},
     "output_type": "display_data"
    }
   ],
   "source": [
    "plt.scatter(y_test, y_pred)\n",
    "plt.xlabel('Truth')\n",
    "plt.ylabel('Prediction')"
   ]
  },
  {
   "attachments": {},
   "cell_type": "markdown",
   "metadata": {},
   "source": [
    "##### Difference between the test values and the predicted values"
   ]
  },
  {
   "cell_type": "code",
   "execution_count": 154,
   "metadata": {},
   "outputs": [
    {
     "data": {
      "text/html": [
       "<div>\n",
       "<style scoped>\n",
       "    .dataframe tbody tr th:only-of-type {\n",
       "        vertical-align: middle;\n",
       "    }\n",
       "\n",
       "    .dataframe tbody tr th {\n",
       "        vertical-align: top;\n",
       "    }\n",
       "\n",
       "    .dataframe thead th {\n",
       "        text-align: right;\n",
       "    }\n",
       "</style>\n",
       "<table border=\"1\" class=\"dataframe\">\n",
       "  <thead>\n",
       "    <tr style=\"text-align: right;\">\n",
       "      <th></th>\n",
       "      <th>Truth</th>\n",
       "      <th>Predicted Value</th>\n",
       "      <th>Difference</th>\n",
       "    </tr>\n",
       "  </thead>\n",
       "  <tbody>\n",
       "    <tr>\n",
       "      <th>975</th>\n",
       "      <td>64</td>\n",
       "      <td>64.0</td>\n",
       "      <td>-4.263256e-14</td>\n",
       "    </tr>\n",
       "    <tr>\n",
       "      <th>558</th>\n",
       "      <td>53</td>\n",
       "      <td>53.0</td>\n",
       "      <td>1.421085e-14</td>\n",
       "    </tr>\n",
       "    <tr>\n",
       "      <th>222</th>\n",
       "      <td>55</td>\n",
       "      <td>55.0</td>\n",
       "      <td>2.131628e-14</td>\n",
       "    </tr>\n",
       "    <tr>\n",
       "      <th>899</th>\n",
       "      <td>65</td>\n",
       "      <td>65.0</td>\n",
       "      <td>-1.421085e-14</td>\n",
       "    </tr>\n",
       "    <tr>\n",
       "      <th>913</th>\n",
       "      <td>47</td>\n",
       "      <td>47.0</td>\n",
       "      <td>2.842171e-14</td>\n",
       "    </tr>\n",
       "    <tr>\n",
       "      <th>...</th>\n",
       "      <td>...</td>\n",
       "      <td>...</td>\n",
       "      <td>...</td>\n",
       "    </tr>\n",
       "    <tr>\n",
       "      <th>427</th>\n",
       "      <td>69</td>\n",
       "      <td>69.0</td>\n",
       "      <td>0.000000e+00</td>\n",
       "    </tr>\n",
       "    <tr>\n",
       "      <th>72</th>\n",
       "      <td>41</td>\n",
       "      <td>41.0</td>\n",
       "      <td>7.105427e-14</td>\n",
       "    </tr>\n",
       "    <tr>\n",
       "      <th>129</th>\n",
       "      <td>51</td>\n",
       "      <td>51.0</td>\n",
       "      <td>5.684342e-14</td>\n",
       "    </tr>\n",
       "    <tr>\n",
       "      <th>333</th>\n",
       "      <td>90</td>\n",
       "      <td>90.0</td>\n",
       "      <td>-4.263256e-14</td>\n",
       "    </tr>\n",
       "    <tr>\n",
       "      <th>100</th>\n",
       "      <td>79</td>\n",
       "      <td>79.0</td>\n",
       "      <td>0.000000e+00</td>\n",
       "    </tr>\n",
       "  </tbody>\n",
       "</table>\n",
       "<p>200 rows × 3 columns</p>\n",
       "</div>"
      ],
      "text/plain": [
       "     Truth  Predicted Value    Difference\n",
       "975     64             64.0 -4.263256e-14\n",
       "558     53             53.0  1.421085e-14\n",
       "222     55             55.0  2.131628e-14\n",
       "899     65             65.0 -1.421085e-14\n",
       "913     47             47.0  2.842171e-14\n",
       "..     ...              ...           ...\n",
       "427     69             69.0  0.000000e+00\n",
       "72      41             41.0  7.105427e-14\n",
       "129     51             51.0  5.684342e-14\n",
       "333     90             90.0 -4.263256e-14\n",
       "100     79             79.0  0.000000e+00\n",
       "\n",
       "[200 rows x 3 columns]"
      ]
     },
     "execution_count": 154,
     "metadata": {},
     "output_type": "execute_result"
    }
   ],
   "source": [
    "pred_df=pd.DataFrame({'Truth':y_test,'Predicted Value':y_pred,'Difference':y_test-y_pred})\n",
    "pred_df"
   ]
  },
  {
   "cell_type": "code",
   "execution_count": null,
   "metadata": {},
   "outputs": [],
   "source": []
  }
 ],
 "metadata": {
  "kernelspec": {
   "display_name": "myenv",
   "language": "python",
   "name": "python3"
  },
  "language_info": {
   "codemirror_mode": {
    "name": "ipython",
    "version": 3
   },
   "file_extension": ".py",
   "mimetype": "text/x-python",
   "name": "python",
   "nbconvert_exporter": "python",
   "pygments_lexer": "ipython3",
   "version": "3.10.11"
  },
  "orig_nbformat": 4
 },
 "nbformat": 4,
 "nbformat_minor": 2
}
